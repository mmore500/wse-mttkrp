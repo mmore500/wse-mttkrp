{
 "cells": [
  {
   "cell_type": "code",
   "execution_count": null,
   "metadata": {},
   "outputs": [],
   "source": [
    "%load_ext watermark\n"
   ]
  },
  {
   "cell_type": "code",
   "execution_count": null,
   "metadata": {},
   "outputs": [],
   "source": [
    "from IPython.display import display\n",
    "import numpy as np\n",
    "import pandas as pd\n"
   ]
  },
  {
   "cell_type": "code",
   "execution_count": null,
   "metadata": {},
   "outputs": [],
   "source": [
    "%watermark -diwmuv -iv\n"
   ]
  },
  {
   "cell_type": "markdown",
   "metadata": {},
   "source": [
    "## Load Dummy 3D Tensor Data\n"
   ]
  },
  {
   "cell_type": "code",
   "execution_count": null,
   "metadata": {},
   "outputs": [],
   "source": [
    "nrow, ncol, nlay = 6, 9, 12\n",
    "rank = 3\n",
    "gridh, gridw = nrow, ncol\n"
   ]
  },
  {
   "cell_type": "code",
   "execution_count": null,
   "metadata": {},
   "outputs": [],
   "source": [
    "data = np.loadtxt(\"2025-08-07-mttkrp-naive+data.txt\").reshape(\n",
    "    (nrow, ncol, nlay),\n",
    ")\n",
    "\n",
    "assert data.shape == (nrow, ncol, nlay)\n",
    "\n",
    "for layer in range(nlay):\n",
    "    print(f\"Layer {layer + 1} data:\")\n",
    "    display(pd.DataFrame(data[:, :, layer].reshape(nrow, ncol)))\n"
   ]
  },
  {
   "cell_type": "markdown",
   "metadata": {},
   "source": [
    "## Load Factor Matrices\n"
   ]
  },
  {
   "cell_type": "code",
   "execution_count": null,
   "metadata": {},
   "outputs": [],
   "source": [
    "A1 = np.loadtxt(\"2025-08-07-mttkrp-naive+A1.txt\")\n",
    "A2 = np.loadtxt(\"2025-08-07-mttkrp-naive+A2.txt\")\n",
    "A3 = np.loadtxt(\"2025-08-07-mttkrp-naive+A3.txt\")\n",
    "\n",
    "assert A1.shape == (nrow, rank)\n",
    "assert A2.shape == (ncol, rank)\n",
    "assert A3.shape == (nlay, rank)\n",
    "\n",
    "print(\"A1:\")\n",
    "display(pd.DataFrame(A1))\n",
    "print(\"A2:\")\n",
    "display(pd.DataFrame(A2))\n",
    "print(\"A3:\")\n",
    "display(pd.DataFrame(A3))\n"
   ]
  },
  {
   "cell_type": "markdown",
   "metadata": {},
   "source": [
    "## Mode 1 MTTKRP\n"
   ]
  },
  {
   "cell_type": "markdown",
   "metadata": {},
   "source": [
    "Put the tensor onto WSE.\n"
   ]
  },
  {
   "cell_type": "code",
   "execution_count": null,
   "metadata": {},
   "outputs": [],
   "source": [
    "pe_tensors = data\n",
    "assert pe_tensors.shape == (nrow, ncol, nlay)\n"
   ]
  },
  {
   "cell_type": "markdown",
   "metadata": {},
   "source": [
    "Put the third factor matrix (`A3`) onto WSE.\n"
   ]
  },
  {
   "cell_type": "code",
   "execution_count": null,
   "metadata": {},
   "outputs": [],
   "source": [
    "pe_A3 = np.zeros(shape=(nrow, ncol, rank))\n",
    "\n",
    "pe_A3[:, 0, :] = A3[:6, :]\n",
    "pe_A3[:, 1, :] = A3[6:12, :]\n"
   ]
  },
  {
   "cell_type": "markdown",
   "metadata": {},
   "source": [
    "Do Khatri-Rao product on WSE. (first block for now)\n"
   ]
  },
  {
   "cell_type": "code",
   "execution_count": null,
   "metadata": {},
   "outputs": [],
   "source": [
    "pe_A2 = np.zeros(shape=(nrow, ncol, rank))\n",
    "for A2_row_idx in range(A2.shape[0]):\n",
    "    pe_A2[0, A2_row_idx, :] = A2[A2_row_idx, :]\n",
    "\n",
    "# broadcast A2 down along columns\n",
    "pe_A2[1:, :, :] = pe_A2[0, :, :]\n",
    "\n",
    "pe_A3_temp = np.zeros(shape=(nrow, ncol, rank))\n",
    "pe_krtemp = np.zeros(shape=(nrow, ncol, rank))\n",
    "pe_A1 = np.zeros(shape=(nrow, ncol, rank))\n",
    "\n",
    "for s in range(6):\n",
    "    # braodcast first row of A3 to all PEs\n",
    "    pe_A3_temp[:, :, :] = pe_A3[s, 0, :]\n",
    "\n",
    "    # all columns have same KRP vector\n",
    "    pe_krtemp[:, :, :] = pe_A2[:, :, :] * pe_A3_temp[:, :, :]\n",
    "\n",
    "    # scale by tensor value\n",
    "    pe_krtemp *= np.tile(np.expand_dims(pe_tensors[:, :, s], axis=2), 3)\n",
    "\n",
    "    pe_A1[:, 0, :] += pe_krtemp.sum(axis=1)\n",
    "\n",
    "\n",
    "for s in range(6, 12):\n",
    "    # braodcast first row of A3 to all PEs\n",
    "    pe_A3_temp[:, :, :] = pe_A3[s - 6, 1, :]\n",
    "\n",
    "    # all columns have same KRP vector\n",
    "    pe_krtemp[:, :, :] = pe_A2[:, :, :] * pe_A3_temp[:, :, :]\n",
    "\n",
    "    # scale by tensor value\n",
    "    pe_krtemp *= np.tile(np.expand_dims(pe_tensors[:, :, s], axis=2), 3)\n",
    "\n",
    "    pe_A1[:, 0, :] += pe_krtemp.sum(axis=1)\n"
   ]
  },
  {
   "cell_type": "code",
   "execution_count": null,
   "metadata": {},
   "outputs": [],
   "source": [
    "A1_extracted = pe_A1[:, 0, :]\n",
    "assert np.allclose(\n",
    "    A1_extracted, np.loadtxt(\"2025-08-07-mttkrp-naive+m1_mttkrpresult.txt\")\n",
    ")\n",
    "pd.DataFrame(A1_extracted)\n"
   ]
  }
 ],
 "metadata": {
  "kernelspec": {
   "display_name": ".env",
   "language": "python",
   "name": "python3"
  },
  "language_info": {
   "codemirror_mode": {
    "name": "ipython",
    "version": 3
   },
   "file_extension": ".py",
   "mimetype": "text/x-python",
   "name": "python",
   "nbconvert_exporter": "python",
   "pygments_lexer": "ipython3"
  }
 },
 "nbformat": 4,
 "nbformat_minor": 2
}
