{
 "cells": [
  {
   "cell_type": "code",
   "execution_count": null,
   "metadata": {},
   "outputs": [],
   "source": [
    "%load_ext watermark\n"
   ]
  },
  {
   "cell_type": "code",
   "execution_count": null,
   "metadata": {},
   "outputs": [],
   "source": [
    "from IPython.display import display\n",
    "import numpy as np\n",
    "import pandas as pd\n"
   ]
  },
  {
   "cell_type": "code",
   "execution_count": null,
   "metadata": {},
   "outputs": [],
   "source": [
    "%watermark -diwmuv -iv\n"
   ]
  },
  {
   "cell_type": "markdown",
   "metadata": {},
   "source": [
    "## Load Dummy 3D Tensor Data\n"
   ]
  },
  {
   "cell_type": "code",
   "execution_count": null,
   "metadata": {},
   "outputs": [],
   "source": [
    "nrow, ncol, nlay = 6, 9, 12\n",
    "rank = 3\n",
    "gridh, gridw = nrow, ncol\n"
   ]
  },
  {
   "cell_type": "code",
   "execution_count": null,
   "metadata": {},
   "outputs": [],
   "source": [
    "data = np.loadtxt(\"2025-08-07-mttkrp-naive+data.txt\").reshape(\n",
    "    (nrow, ncol, nlay),\n",
    ")\n",
    "\n",
    "assert data.shape == (nrow, ncol, nlay)\n",
    "\n",
    "for layer in range(nlay):\n",
    "    print(f\"Layer {layer + 1} data:\")\n",
    "    display(pd.DataFrame(data[:, :, layer].reshape(nrow, ncol)))\n"
   ]
  },
  {
   "cell_type": "markdown",
   "metadata": {},
   "source": [
    "## Load Factor Matrices\n"
   ]
  },
  {
   "cell_type": "code",
   "execution_count": null,
   "metadata": {},
   "outputs": [],
   "source": [
    "A1 = np.loadtxt(\"2025-08-07-mttkrp-naive+A1.txt\")\n",
    "A2 = np.loadtxt(\"2025-08-07-mttkrp-naive+A2.txt\")\n",
    "A3 = np.loadtxt(\"2025-08-07-mttkrp-naive+A3.txt\")\n",
    "\n",
    "assert A1.shape == (nrow, rank)\n",
    "assert A2.shape == (ncol, rank)\n",
    "assert A3.shape == (nlay, rank)\n",
    "\n",
    "print(\"A1:\")\n",
    "display(pd.DataFrame(A1))\n",
    "print(\"A2:\")\n",
    "display(pd.DataFrame(A2))\n",
    "print(\"A3:\")\n",
    "display(pd.DataFrame(A3))\n"
   ]
  },
  {
   "cell_type": "markdown",
   "metadata": {},
   "source": [
    "## Mode 1 MTTKRP\n"
   ]
  },
  {
   "cell_type": "markdown",
   "metadata": {},
   "source": [
    "Put the tensor onto WSE.\n"
   ]
  },
  {
   "cell_type": "code",
   "execution_count": null,
   "metadata": {},
   "outputs": [],
   "source": [
    "pe_tensors = data\n",
    "assert pe_tensors.shape == (nrow, ncol, nlay)\n"
   ]
  },
  {
   "cell_type": "markdown",
   "metadata": {},
   "source": [
    "Put the third factor matrix (`A3`) onto WSE.\n"
   ]
  },
  {
   "cell_type": "code",
   "execution_count": null,
   "metadata": {},
   "outputs": [],
   "source": [
    "pe_A3 = np.zeros(shape=(nrow, ncol, rank))\n",
    "\n",
    "pe_A3[:, 0, :] = A3[:6, :]\n",
    "pe_A3[:, 1, :] = A3[6:12, :]\n"
   ]
  },
  {
   "cell_type": "markdown",
   "metadata": {},
   "source": [
    "Do Khatri-Rao product on WSE.\n"
   ]
  },
  {
   "cell_type": "code",
   "execution_count": null,
   "metadata": {},
   "outputs": [],
   "source": [
    "pe_A2 = np.zeros(shape=(nrow, ncol, rank))\n",
    "for A2_row_idx in range(A2.shape[0]):\n",
    "    pe_A2[0, A2_row_idx, :] = A2[A2_row_idx, :]\n",
    "\n",
    "# broadcast A2 down along columns\n",
    "pe_A2[1:, :, :] = pe_A2[0, :, :]\n",
    "\n",
    "pe_A3_temp = np.zeros(shape=(nrow, ncol, rank))\n",
    "pe_krtemp = np.zeros(shape=(nrow, ncol, rank))\n",
    "pe_A1 = np.zeros(shape=(nrow, ncol, rank))\n",
    "\n",
    "for s in range(6):\n",
    "    # braodcast first row of A3 to all PEs\n",
    "    pe_A3_temp[:, :, :] = pe_A3[s, 0, :]\n",
    "\n",
    "    # all columns have same KRP vector\n",
    "    pe_krtemp[:, :, :] = pe_A2[:, :, :] * pe_A3_temp[:, :, :]\n",
    "\n",
    "    # scale by tensor value\n",
    "    pe_krtemp *= np.tile(np.expand_dims(pe_tensors[:, :, s], axis=2), 3)\n",
    "\n",
    "    pe_A1[:, 0, :] += pe_krtemp.sum(axis=1)\n",
    "\n",
    "\n",
    "for s in range(6, 12):\n",
    "    # braodcast first row of A3 to all PEs\n",
    "    pe_A3_temp[:, :, :] = pe_A3[s - 6, 1, :]\n",
    "\n",
    "    # all columns have same KRP vector\n",
    "    pe_krtemp[:, :, :] = pe_A2[:, :, :] * pe_A3_temp[:, :, :]\n",
    "\n",
    "    # scale by tensor value\n",
    "    pe_krtemp *= np.tile(np.expand_dims(pe_tensors[:, :, s], axis=2), 3)\n",
    "\n",
    "    pe_A1[:, 0, :] += pe_krtemp.sum(axis=1)\n"
   ]
  },
  {
   "cell_type": "code",
   "execution_count": null,
   "metadata": {},
   "outputs": [],
   "source": [
    "A1_extracted = pe_A1[:, 0, :]\n",
    "assert np.allclose(\n",
    "    A1_extracted, np.loadtxt(\"2025-08-07-mttkrp-naive+m1_mttkrpresult.txt\")\n",
    ")\n",
    "pd.DataFrame(A1_extracted)\n"
   ]
  },
  {
   "cell_type": "markdown",
   "metadata": {},
   "source": [
    "## Mode 2 MTTKRP\n"
   ]
  },
  {
   "cell_type": "code",
   "execution_count": null,
   "metadata": {},
   "outputs": [],
   "source": [
    "A1 = np.loadtxt(\"2025-08-07-mttkrp-naive+A1.txt\")\n",
    "A2 = np.loadtxt(\"2025-08-07-mttkrp-naive+A2.txt\")\n",
    "A3 = np.loadtxt(\"2025-08-07-mttkrp-naive+A3.txt\")\n",
    "\n",
    "assert A1.shape == (nrow, rank)\n",
    "assert A2.shape == (ncol, rank)\n",
    "assert A3.shape == (nlay, rank)\n",
    "\n",
    "print(\"A1:\")\n",
    "display(pd.DataFrame(A1))\n",
    "print(\"A2:\")\n",
    "display(pd.DataFrame(A2))\n",
    "print(\"A3:\")\n",
    "display(pd.DataFrame(A3))\n"
   ]
  },
  {
   "cell_type": "markdown",
   "metadata": {},
   "source": [
    "Load A1 into the first column and copy it along the rows.\n"
   ]
  },
  {
   "cell_type": "code",
   "execution_count": null,
   "metadata": {},
   "outputs": [],
   "source": [
    "pe_A1 = np.zeros(shape=(nrow, ncol, rank))\n",
    "\n",
    "for row in range(nrow):\n",
    "    pe_A1[row, 0, :] = A1[row, :]\n",
    "\n",
    "# copy along rows\n",
    "for col in range(1, ncol):\n",
    "    pe_A1[:, col, :] = pe_A1[:, 0, :]\n"
   ]
  },
  {
   "cell_type": "markdown",
   "metadata": {},
   "source": [
    "Load A3 split over the first two columns.\n"
   ]
  },
  {
   "cell_type": "code",
   "execution_count": null,
   "metadata": {},
   "outputs": [],
   "source": [
    "pe_A3 = np.zeros(shape=(nrow, ncol, rank))\n",
    "\n",
    "# put first six rows into col 0\n",
    "pe_A3[:, 0, :] = A3[:6, :]\n",
    "\n",
    "# put second six rows into col 1\n",
    "pe_A3[:, 1, :] = A3[6:, :]\n"
   ]
  },
  {
   "cell_type": "markdown",
   "metadata": {},
   "source": [
    "Take the first row of A3 and distribute along the rows and the columns.\n"
   ]
  },
  {
   "cell_type": "markdown",
   "metadata": {},
   "source": [
    "Do Khatri-Rao product on WSE.\n"
   ]
  },
  {
   "cell_type": "code",
   "execution_count": null,
   "metadata": {},
   "outputs": [],
   "source": [
    "pe_krtemp = np.zeros(shape=(nrow, ncol, rank))\n",
    "pe_A3_temp = np.zeros(shape=(nrow, ncol, rank))\n",
    "\n",
    "# zero out PE_A2\n",
    "pe_A2 = np.zeros(shape=(nrow, ncol, rank))\n",
    "\n",
    "for s in range(6):\n",
    "\n",
    "    #--- broadcast pe_A3[s, 0, :] to all pe_A3_temp\n",
    "\n",
    "    # send down the column\n",
    "    pe_A3_temp[:, 0, :] = pe_A3[s, 0, :]\n",
    "\n",
    "    # send along the rows\n",
    "    for col in range(1, ncol):\n",
    "        pe_A3_temp[:, col, :] = pe_A3_temp[:, 0, :]\n",
    "\n",
    "    #---\n",
    "\n",
    "    # all columns have same KRP vector\n",
    "    pe_krtemp[:, :, :] = pe_A1[:, :, :] * pe_A3_temp[:, :, :]\n",
    "\n",
    "    # scale by tensor value\n",
    "    pe_krtemp *= np.tile(np.expand_dims(pe_tensors[:, :, s], axis=2), 3)\n",
    "\n",
    "    pe_A2[0, :, :] += pe_krtemp.sum(axis=0)\n",
    "\n",
    "\n",
    "for s in range(6, 12):\n",
    "    # send down the column\n",
    "    pe_A3_temp[:, 0, :] = pe_A3[s - 6, 1, :]\n",
    "\n",
    "    # send along the rows\n",
    "    for col in range(1, ncol):\n",
    "        pe_A3_temp[:, col, :] = pe_A3_temp[:, 0, :]\n",
    "\n",
    "    # all columns have same KRP vector\n",
    "    pe_krtemp[:, :, :] = pe_A1[:, :, :] * pe_A3_temp[:, :, :]\n",
    "\n",
    "    # scale by tensor value\n",
    "    pe_krtemp *= np.tile(np.expand_dims(pe_tensors[:, :, s], axis=2), 3)\n",
    "\n",
    "    pe_A2[0, :, :] += pe_krtemp.sum(axis=0)\n"
   ]
  },
  {
   "cell_type": "code",
   "execution_count": null,
   "metadata": {},
   "outputs": [],
   "source": [
    "A2_extracted = pe_A2[0, :, :]\n",
    "assert np.allclose(\n",
    "    A2_extracted, np.loadtxt(\"2025-08-07-mttkrp-naive+m2_mttkrpresult.txt\")\n",
    ")\n",
    "pd.DataFrame(A2_extracted)\n"
   ]
  },
  {
   "cell_type": "markdown",
   "metadata": {},
   "source": [
    "## Mode 3 MTTKRP\n"
   ]
  },
  {
   "cell_type": "code",
   "execution_count": null,
   "metadata": {},
   "outputs": [],
   "source": [
    "A1 = np.loadtxt(\"2025-08-07-mttkrp-naive+A1.txt\")\n",
    "A2 = np.loadtxt(\"2025-08-07-mttkrp-naive+A2.txt\")\n",
    "A3 = np.loadtxt(\"2025-08-07-mttkrp-naive+A3.txt\")\n",
    "\n",
    "assert A1.shape == (nrow, rank)\n",
    "assert A2.shape == (ncol, rank)\n",
    "assert A3.shape == (nlay, rank)\n",
    "\n",
    "print(\"A1:\")\n",
    "display(pd.DataFrame(A1))\n",
    "print(\"A2:\")\n",
    "display(pd.DataFrame(A2))\n",
    "print(\"A3:\")\n",
    "display(pd.DataFrame(A3))\n"
   ]
  },
  {
   "cell_type": "markdown",
   "metadata": {},
   "source": [
    "Distribute A1 matrix along rows.\n"
   ]
  },
  {
   "cell_type": "code",
   "execution_count": null,
   "metadata": {},
   "outputs": [],
   "source": [
    "pe_A1 = np.zeros(shape=(nrow, nlay, rank))\n",
    "\n",
    "for row in range(nrow):\n",
    "    pe_A1[row, 0, :] = A1[row, :]\n",
    "\n",
    "# copy along rows\n",
    "for col in range(1, nlay):\n",
    "    pe_A1[:, col, :] = pe_A1[:, 0, :]\n"
   ]
  },
  {
   "cell_type": "markdown",
   "metadata": {},
   "source": [
    "Load A2 matrix.\n"
   ]
  },
  {
   "cell_type": "code",
   "execution_count": null,
   "metadata": {},
   "outputs": [],
   "source": [
    "pe_A2 = np.zeros(shape=(nrow, nlay, rank))\n",
    "\n",
    "for s in range(ncol):\n",
    "    pe_A2[ 0, s, :] = A2[s, :]\n"
   ]
  },
  {
   "cell_type": "code",
   "execution_count": null,
   "metadata": {},
   "outputs": [],
   "source": [
    "pe_krtemp = np.zeros(shape=(nrow, nlay, rank))\n",
    "pe_A2_temp = np.zeros(shape=(nrow, nlay, rank))\n",
    "\n",
    "# zero out PE_A3\n",
    "pe_A3 = np.zeros(shape=(nrow, nlay, rank))\n",
    "\n",
    "\n",
    "# rearrange pe_tensors\n",
    "\n",
    "for s in range(ncol):\n",
    "\n",
    "    #--- broadcast pe_2[0, s, :] to all pe_A2_temp\n",
    "\n",
    "    # send down the column\n",
    "    pe_A2_temp[:, s, :] = pe_A2[0, s, :]\n",
    "\n",
    "    # send along the rows\n",
    "    for col in range(nlay):\n",
    "        if col != s:\n",
    "            pe_A2_temp[:, col, :] = pe_A2_temp[:, s, :]\n",
    "\n",
    "    #---\n",
    "\n",
    "    # compute khatri rao product\n",
    "\n",
    "    # all columns have same KRP vector\n",
    "    pe_krtemp[:, :, :] = pe_A1[:, :, :] * pe_A2_temp[:, :, :]\n",
    "\n",
    "    print(pd.DataFrame(pe_krtemp[:, 0, :]))\n",
    "    # scale by tensor value\n",
    "    # pe_krtemp *= np.tile(np.expand_dims(pe_tensors[:, :, s], axis=2), 3)\n",
    "\n",
    "    # pe_A2[0, :, :] += pe_krtemp.sum(axis=0)\n"
   ]
  }
 ],
 "metadata": {
  "kernelspec": {
   "display_name": ".env",
   "language": "python",
   "name": "python3"
  },
  "language_info": {
   "codemirror_mode": {
    "name": "ipython",
    "version": 3
   },
   "file_extension": ".py",
   "mimetype": "text/x-python",
   "name": "python",
   "nbconvert_exporter": "python",
   "pygments_lexer": "ipython3"
  }
 },
 "nbformat": 4,
 "nbformat_minor": 2
}
