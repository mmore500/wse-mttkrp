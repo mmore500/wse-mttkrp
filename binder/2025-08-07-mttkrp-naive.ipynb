{
 "cells": [
  {
   "cell_type": "code",
   "execution_count": null,
   "metadata": {},
   "outputs": [],
   "source": [
    "%load_ext watermark\n"
   ]
  },
  {
   "cell_type": "code",
   "execution_count": null,
   "metadata": {},
   "outputs": [],
   "source": [
    "from IPython.display import display\n",
    "import numpy as np\n",
    "import pandas as pd\n"
   ]
  },
  {
   "cell_type": "code",
   "execution_count": null,
   "metadata": {},
   "outputs": [],
   "source": [
    "%watermark -diwmuv -iv\n"
   ]
  },
  {
   "cell_type": "code",
   "execution_count": null,
   "metadata": {},
   "outputs": [],
   "source": [
    "np.random.seed(42)\n"
   ]
  },
  {
   "cell_type": "markdown",
   "metadata": {},
   "source": [
    "## Create Dummy 3D Tensor Data\n"
   ]
  },
  {
   "cell_type": "code",
   "execution_count": null,
   "metadata": {},
   "outputs": [],
   "source": [
    "nrow, ncol, nlay = 6, 9, 12\n",
    "rank = 3\n",
    "data = np.random.normal(size=(nrow, ncol, nlay))\n",
    "\n",
    "assert data.shape == (nrow, ncol, nlay)\n",
    "\n",
    "for layer in range(nlay):\n",
    "    print(f\"Layer {layer + 1} data:\")\n",
    "    display(pd.DataFrame(data[:, :, layer].reshape(nrow, ncol)))\n"
   ]
  },
  {
   "cell_type": "code",
   "execution_count": null,
   "metadata": {},
   "outputs": [],
   "source": [
    "assert np.all(\n",
    "    np.loadtxt(\"2025-08-07-mttkrp-naive+data.txt\").reshape(data.shape)\n",
    "    == data\n",
    ")\n",
    "np.savetxt(\"2025-08-07-mttkrp-naive+data.txt\", data.ravel())\n"
   ]
  },
  {
   "cell_type": "markdown",
   "metadata": {},
   "source": [
    "## Create Factor Matrices\n"
   ]
  },
  {
   "cell_type": "code",
   "execution_count": null,
   "metadata": {},
   "outputs": [],
   "source": [
    "A1 = np.random.rand(nrow, rank)\n",
    "A2 = np.random.rand(ncol, rank)\n",
    "A3 = np.random.rand(nlay, rank)\n",
    "\n",
    "assert A1.shape == (nrow, rank)\n",
    "assert A2.shape == (ncol, rank)\n",
    "assert A3.shape == (nlay, rank)\n"
   ]
  },
  {
   "cell_type": "code",
   "execution_count": null,
   "metadata": {},
   "outputs": [],
   "source": [
    "assert np.all(np.loadtxt(\"2025-08-07-mttkrp-naive+A1.txt\") == A1)\n",
    "assert np.all(np.loadtxt(\"2025-08-07-mttkrp-naive+A2.txt\") == A2)\n",
    "assert np.all(np.loadtxt(\"2025-08-07-mttkrp-naive+A3.txt\") == A3)\n",
    "\n",
    "np.savetxt(\"2025-08-07-mttkrp-naive+A1.txt\", A1)\n",
    "np.savetxt(\"2025-08-07-mttkrp-naive+A2.txt\", A2)\n",
    "np.savetxt(\"2025-08-07-mttkrp-naive+A3.txt\", A3)\n",
    "\n",
    "print(\"A1:\")\n",
    "display(pd.DataFrame(A1))\n",
    "print(\"A2:\")\n",
    "display(pd.DataFrame(A2))\n",
    "print(\"A3:\")\n",
    "display(pd.DataFrame(A3))\n"
   ]
  },
  {
   "cell_type": "markdown",
   "metadata": {},
   "source": [
    "## Mode 1 MTTKRP\n"
   ]
  },
  {
   "cell_type": "code",
   "execution_count": null,
   "metadata": {},
   "outputs": [],
   "source": [
    "m1_matricized = data.reshape(nrow, ncol * nlay, order=\"F\")\n",
    "assert m1_matricized[0, 0] == data[0, 0, 0]\n",
    "assert m1_matricized[0, 1] == data[0, 1, 0]\n",
    "assert m1_matricized[1, 0] == data[1, 0, 0]\n",
    "assert m1_matricized[1, 1] == data[1, 1, 0]\n",
    "assert m1_matricized[0, ncol] == data[0, 0, 1]\n",
    "assert m1_matricized[0, ncol + 1] == data[0, 1, 1]\n",
    "assert m1_matricized[1, ncol] == data[1, 0, 1]\n",
    "assert m1_matricized[1, ncol + 1] == data[1, 1, 1]\n"
   ]
  },
  {
   "cell_type": "code",
   "execution_count": null,
   "metadata": {},
   "outputs": [],
   "source": [
    "assert np.all(\n",
    "    np.loadtxt(\"2025-08-07-mttkrp-naive+m1_matricized.txt\") == m1_matricized\n",
    ")\n",
    "np.savetxt(\"2025-08-07-mttkrp-naive+m1_matricized.txt\", m1_matricized)\n",
    "pd.DataFrame(m1_matricized)\n"
   ]
  },
  {
   "cell_type": "code",
   "execution_count": null,
   "metadata": {},
   "outputs": [],
   "source": [
    "m1_krcolumns = [\n",
    "    np.outer(A2[:, r], A3[:, r]).ravel()\n",
    "    for r in range(rank)\n",
    "]\n",
    "m1_krresult = np.stack(m1_krcolumns, axis=1)\n",
    "assert m1_krresult.shape == (ncol * nlay, rank)\n"
   ]
  },
  {
   "cell_type": "code",
   "execution_count": null,
   "metadata": {},
   "outputs": [],
   "source": [
    "assert np.all(\n",
    "    np.loadtxt(\"2025-08-07-mttkrp-naive+m1_krresult.txt\") == m1_krresult\n",
    ")\n",
    "np.savetxt(\"2025-08-07-mttkrp-naive+m1_krresult.txt\", m1_krresult)\n",
    "pd.DataFrame(m1_krresult)\n"
   ]
  },
  {
   "cell_type": "code",
   "execution_count": null,
   "metadata": {},
   "outputs": [],
   "source": [
    "m1_mttkrpresult = m1_matricized @ m1_krresult\n",
    "assert m1_mttkrpresult.shape == (nrow, rank)\n"
   ]
  },
  {
   "cell_type": "code",
   "execution_count": null,
   "metadata": {},
   "outputs": [],
   "source": [
    "assert np.all(\n",
    "    np.loadtxt(\"2025-08-07-mttkrp-naive+m1_mttkrpresult.txt\") == m1_mttkrpresult\n",
    ")\n",
    "np.savetxt(\"2025-08-07-mttkrp-naive+m1_mttkrpresult.txt\", m1_mttkrpresult)\n",
    "\n",
    "pd.DataFrame(m1_mttkrpresult)\n"
   ]
  },
  {
   "cell_type": "markdown",
   "metadata": {},
   "source": [
    "## Mode 2 MTTKRP\n"
   ]
  },
  {
   "cell_type": "code",
   "execution_count": null,
   "metadata": {},
   "outputs": [],
   "source": [
    "m2_matricized = data.transpose((1, 2, 0)).reshape(ncol, nrow * nlay, order=\"F\")\n",
    "assert m2_matricized[0, 0] == data[0, 0, 0]\n",
    "assert m2_matricized[0, 1] == data[0, 0, 1]\n",
    "assert m2_matricized[1, 0] == data[0, 1, 0]\n",
    "assert m2_matricized[1, 1] == data[0, 1, 1]\n",
    "assert m2_matricized[0, nlay] == data[1, 0, 0]\n",
    "assert m2_matricized[0, nlay + 1] == data[1, 0, 1]\n",
    "assert m2_matricized[1, nlay] == data[1, 1, 0]\n",
    "assert m2_matricized[1, nlay + 1] == data[1, 1, 1]\n"
   ]
  },
  {
   "cell_type": "code",
   "execution_count": null,
   "metadata": {},
   "outputs": [],
   "source": [
    "assert np.all(\n",
    "    np.loadtxt(\"2025-08-07-mttkrp-naive+m2_matricized.txt\") == m2_matricized\n",
    ")\n",
    "np.savetxt(\"2025-08-07-mttkrp-naive+m2_matricized.txt\", m2_matricized)\n",
    "pd.DataFrame(m2_matricized)\n"
   ]
  },
  {
   "cell_type": "code",
   "execution_count": null,
   "metadata": {},
   "outputs": [],
   "source": [
    "m2_krcolumns = [\n",
    "    np.outer(A1[:, r], A3[:, r]).ravel()\n",
    "    for r in range(rank)\n",
    "]\n",
    "m2_krresult = np.stack(m2_krcolumns, axis=1)\n",
    "assert m2_krresult.shape == (nrow * nlay, rank)\n"
   ]
  },
  {
   "cell_type": "code",
   "execution_count": null,
   "metadata": {},
   "outputs": [],
   "source": [
    "assert np.all(\n",
    "    np.loadtxt(\"2025-08-07-mttkrp-naive+m2_krresult.txt\") == m2_krresult\n",
    ")\n",
    "np.savetxt(\"2025-08-07-mttkrp-naive+m2_krresult.txt\", m2_krresult)\n",
    "pd.DataFrame(m2_krresult)\n"
   ]
  },
  {
   "cell_type": "code",
   "execution_count": null,
   "metadata": {},
   "outputs": [],
   "source": [
    "m2_krcolumns = [\n",
    "    np.outer(A1[:, r], A3[:, r]).ravel()\n",
    "    for r in range(rank)\n",
    "]\n",
    "m2_krresult = np.stack(m2_krcolumns, axis=1)\n",
    "assert m2_krresult.shape == (nrow * nlay, rank)\n"
   ]
  },
  {
   "cell_type": "code",
   "execution_count": null,
   "metadata": {},
   "outputs": [],
   "source": [
    "assert np.all(\n",
    "    np.loadtxt(\"2025-08-07-mttkrp-naive+m2_krresult.txt\") == m2_krresult\n",
    ")\n",
    "np.savetxt(\"2025-08-07-mttkrp-naive+m2_krresult.txt\", m2_krresult)\n",
    "pd.DataFrame(m2_krresult)\n"
   ]
  },
  {
   "cell_type": "code",
   "execution_count": null,
   "metadata": {},
   "outputs": [],
   "source": [
    "m2_mttkrpresult = m2_matricized @ m2_krresult\n",
    "assert m2_mttkrpresult.shape == (ncol, rank)\n"
   ]
  },
  {
   "cell_type": "code",
   "execution_count": null,
   "metadata": {},
   "outputs": [],
   "source": [
    "assert np.all(\n",
    "    np.loadtxt(\"2025-08-07-mttkrp-naive+m2_mttkrpresult.txt\") == m2_mttkrpresult\n",
    ")\n",
    "np.savetxt(\"2025-08-07-mttkrp-naive+m2_mttkrpresult.txt\", m2_mttkrpresult)\n",
    "\n",
    "pd.DataFrame(m2_mttkrpresult)\n"
   ]
  },
  {
   "cell_type": "markdown",
   "metadata": {},
   "source": [
    "## Mode 3 MTTKRP\n"
   ]
  },
  {
   "cell_type": "code",
   "execution_count": null,
   "metadata": {},
   "outputs": [],
   "source": [
    "m3_matricized = data.transpose((2, 0, 1)).reshape(nlay, nrow * ncol, order=\"F\")\n",
    "assert m3_matricized[0, 0] == data[0, 0, 0]\n",
    "assert m3_matricized[0, 1] == data[1, 0, 0]\n",
    "assert m3_matricized[1, 0] == data[0, 0, 1]\n",
    "assert m3_matricized[1, 1] == data[1, 0, 1]\n",
    "assert m3_matricized[0, nrow] == data[0, 1, 0]\n",
    "assert m3_matricized[0, nrow + 1] == data[1, 1, 0]\n",
    "assert m3_matricized[1, nrow] == data[0, 1, 1]\n",
    "assert m3_matricized[1, nrow + 1] == data[1, 1, 1]\n"
   ]
  },
  {
   "cell_type": "code",
   "execution_count": null,
   "metadata": {},
   "outputs": [],
   "source": [
    "assert np.all(\n",
    "    np.loadtxt(\"2025-08-07-mttkrp-naive+m3_matricized.txt\") == m3_matricized\n",
    ")\n",
    "np.savetxt(\"2025-08-07-mttkrp-naive+m3_matricized.txt\", m3_matricized)\n",
    "pd.DataFrame(m3_matricized)\n"
   ]
  },
  {
   "cell_type": "code",
   "execution_count": null,
   "metadata": {},
   "outputs": [],
   "source": [
    "m3_krcolumns = [\n",
    "    np.outer(A1[:, r], A2[:, r]).ravel()\n",
    "    for r in range(rank)\n",
    "]\n",
    "m3_krresult = np.stack(m3_krcolumns, axis=1)\n",
    "assert m3_krresult.shape == (ncol * nrow, rank)\n"
   ]
  },
  {
   "cell_type": "code",
   "execution_count": null,
   "metadata": {},
   "outputs": [],
   "source": [
    "assert np.all(\n",
    "    np.loadtxt(\"2025-08-07-mttkrp-naive+m3_krresult.txt\") == m3_krresult\n",
    ")\n",
    "np.savetxt(\"2025-08-07-mttkrp-naive+m3_krresult.txt\", m3_krresult)\n",
    "pd.DataFrame(m3_krresult)\n"
   ]
  },
  {
   "cell_type": "code",
   "execution_count": null,
   "metadata": {},
   "outputs": [],
   "source": [
    "m3_mttkrpresult = m3_matricized @ m3_krresult\n",
    "assert m3_mttkrpresult.shape == (nlay, rank)\n"
   ]
  },
  {
   "cell_type": "code",
   "execution_count": null,
   "metadata": {},
   "outputs": [],
   "source": [
    "assert np.all(\n",
    "    np.loadtxt(\"2025-08-07-mttkrp-naive+m3_mttkrpresult.txt\") == m3_mttkrpresult\n",
    ")\n",
    "np.savetxt(\"2025-08-07-mttkrp-naive+m3_mttkrpresult.txt\", m3_mttkrpresult)\n",
    "pd.DataFrame(m3_mttkrpresult)\n"
   ]
  }
 ],
 "metadata": {
  "kernelspec": {
   "display_name": ".env",
   "language": "python",
   "name": "python3"
  },
  "language_info": {
   "codemirror_mode": {
    "name": "ipython",
    "version": 3
   },
   "file_extension": ".py",
   "mimetype": "text/x-python",
   "name": "python",
   "nbconvert_exporter": "python",
   "pygments_lexer": "ipython3"
  }
 },
 "nbformat": 4,
 "nbformat_minor": 2
}
