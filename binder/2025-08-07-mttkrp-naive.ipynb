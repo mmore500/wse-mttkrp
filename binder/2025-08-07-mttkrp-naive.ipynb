{
 "cells": [
  {
   "cell_type": "code",
   "execution_count": null,
   "metadata": {},
   "outputs": [],
   "source": [
    "%load_ext watermark\n"
   ]
  },
  {
   "cell_type": "code",
   "execution_count": null,
   "metadata": {},
   "outputs": [],
   "source": [
    "from IPython.display import display\n",
    "import numpy as np\n",
    "import pandas as pd\n"
   ]
  },
  {
   "cell_type": "code",
   "execution_count": null,
   "metadata": {},
   "outputs": [],
   "source": [
    "%watermark -diwmuv -iv\n"
   ]
  },
  {
   "cell_type": "code",
   "execution_count": null,
   "metadata": {},
   "outputs": [],
   "source": [
    "np.random.seed(42)\n"
   ]
  },
  {
   "cell_type": "markdown",
   "metadata": {},
   "source": [
    "## Create Dummy 3D Tensor Data\n"
   ]
  },
  {
   "cell_type": "code",
   "execution_count": null,
   "metadata": {},
   "outputs": [],
   "source": [
    "nrow, ncol, nlay = 6, 9, 12\n",
    "rank = 3\n",
    "data = np.random.normal(size=(nrow, ncol, nlay))\n",
    "\n",
    "assert data.shape == (nrow, ncol, nlay)\n",
    "\n",
    "for layer in range(nlay):\n",
    "    print(f\"Layer {layer + 1} data:\")\n",
    "    display(pd.DataFrame(data[:, :, layer].reshape(nrow, ncol)))\n"
   ]
  },
  {
   "cell_type": "markdown",
   "metadata": {},
   "source": [
    "## Create Factor Matrices\n"
   ]
  },
  {
   "cell_type": "code",
   "execution_count": null,
   "metadata": {},
   "outputs": [],
   "source": [
    "A1 = np.random.rand(nrow, rank)\n",
    "A2 = np.random.rand(ncol, rank)\n",
    "A3 = np.random.rand(nlay, rank)\n",
    "\n",
    "assert A1.shape == (nrow, rank)\n",
    "assert A2.shape == (ncol, rank)\n",
    "assert A3.shape == (nlay, rank)\n"
   ]
  },
  {
   "cell_type": "markdown",
   "metadata": {},
   "source": [
    "## Mode 1 MTTKRP\n"
   ]
  },
  {
   "cell_type": "code",
   "execution_count": null,
   "metadata": {},
   "outputs": [],
   "source": [
    "m1_matricized = data.reshape(nrow, ncol * nlay, order=\"F\")\n",
    "assert m1_matricized[0, 0] == data[0, 0, 0]\n",
    "assert m1_matricized[0, 1] == data[0, 1, 0]\n",
    "assert m1_matricized[1, 0] == data[1, 0, 0]\n",
    "assert m1_matricized[1, 1] == data[1, 1, 0]\n",
    "assert m1_matricized[0, ncol] == data[0, 0, 1]\n",
    "assert m1_matricized[0, ncol + 1] == data[0, 1, 1]\n",
    "assert m1_matricized[1, ncol] == data[1, 0, 1]\n",
    "assert m1_matricized[1, ncol + 1] == data[1, 1, 1]\n"
   ]
  },
  {
   "cell_type": "code",
   "execution_count": null,
   "metadata": {},
   "outputs": [],
   "source": [
    "kr_columns = [\n",
    "    np.outer(A2[:, r], A3[:, r]).ravel()\n",
    "    for r in range(rank)\n",
    "]\n",
    "kr_result = np.stack(kr_columns, axis=1)\n",
    "assert kr_result.shape == (ncol * nlay, rank)\n"
   ]
  },
  {
   "cell_type": "code",
   "execution_count": null,
   "metadata": {},
   "outputs": [],
   "source": [
    "mttkrp_result = m1_matricized @ kr_result\n",
    "assert mttkrp_result.shape == (nrow, rank)\n"
   ]
  },
  {
   "cell_type": "code",
   "execution_count": null,
   "metadata": {},
   "outputs": [],
   "source": [
    "pd.DataFrame(mttkrp_result)\n"
   ]
  },
  {
   "cell_type": "markdown",
   "metadata": {},
   "source": [
    "## Mode 2 MTTKRP\n"
   ]
  },
  {
   "cell_type": "code",
   "execution_count": null,
   "metadata": {},
   "outputs": [],
   "source": [
    "m2_matricized = data.transpose((1, 2, 0)).reshape(ncol, nrow * nlay, order=\"F\")\n",
    "assert m2_matricized[0, 0] == data[0, 0, 0]\n",
    "assert m2_matricized[0, 1] == data[0, 0, 1]\n",
    "assert m2_matricized[1, 0] == data[0, 1, 0]\n",
    "assert m2_matricized[1, 1] == data[0, 1, 1]\n",
    "assert m2_matricized[0, nlay] == data[1, 0, 0]\n",
    "assert m2_matricized[0, nlay + 1] == data[1, 0, 1]\n",
    "assert m2_matricized[1, nlay] == data[1, 1, 0]\n",
    "assert m2_matricized[1, nlay + 1] == data[1, 1, 1]\n"
   ]
  },
  {
   "cell_type": "code",
   "execution_count": null,
   "metadata": {},
   "outputs": [],
   "source": [
    "kr_columns = [\n",
    "    np.outer(A1[:, r], A3[:, r]).ravel()\n",
    "    for r in range(rank)\n",
    "]\n",
    "kr_result = np.stack(kr_columns, axis=1)\n",
    "assert kr_result.shape == (nrow * nlay, rank)\n"
   ]
  },
  {
   "cell_type": "code",
   "execution_count": null,
   "metadata": {},
   "outputs": [],
   "source": [
    "mttkrp_result = m2_matricized @ kr_result\n",
    "assert mttkrp_result.shape == (ncol, rank)\n"
   ]
  },
  {
   "cell_type": "code",
   "execution_count": null,
   "metadata": {},
   "outputs": [],
   "source": [
    "pd.DataFrame(mttkrp_result)\n"
   ]
  },
  {
   "cell_type": "markdown",
   "metadata": {},
   "source": [
    "## Mode 3 MTTKRP\n"
   ]
  },
  {
   "cell_type": "code",
   "execution_count": null,
   "metadata": {},
   "outputs": [],
   "source": [
    "m3_matricized = data.transpose((2, 0, 1)).reshape(nlay, nrow * ncol, order=\"F\")\n",
    "assert m3_matricized[0, 0] == data[0, 0, 0]\n",
    "assert m3_matricized[0, 1] == data[1, 0, 0]\n",
    "assert m3_matricized[1, 0] == data[0, 0, 1]\n",
    "assert m3_matricized[1, 1] == data[1, 0, 1]\n",
    "assert m3_matricized[0, nrow] == data[0, 1, 0]\n",
    "assert m3_matricized[0, nrow + 1] == data[1, 1, 0]\n",
    "assert m3_matricized[1, nrow] == data[0, 1, 1]\n",
    "assert m3_matricized[1, nrow + 1] == data[1, 1, 1]\n"
   ]
  },
  {
   "cell_type": "code",
   "execution_count": null,
   "metadata": {},
   "outputs": [],
   "source": [
    "kr_columns = [\n",
    "    np.outer(A1[:, r], A2[:, r]).ravel()\n",
    "    for r in range(rank)\n",
    "]\n",
    "kr_result = np.stack(kr_columns, axis=1)\n",
    "assert kr_result.shape == (ncol * nrow, rank)\n"
   ]
  },
  {
   "cell_type": "code",
   "execution_count": null,
   "metadata": {},
   "outputs": [],
   "source": [
    "mttkrp_result = m3_matricized @ kr_result\n",
    "assert mttkrp_result.shape == (nlay, rank)\n"
   ]
  },
  {
   "cell_type": "code",
   "execution_count": null,
   "metadata": {},
   "outputs": [],
   "source": [
    "pd.DataFrame(mttkrp_result)\n"
   ]
  }
 ],
 "metadata": {
  "kernelspec": {
   "display_name": ".env",
   "language": "python",
   "name": "python3"
  },
  "language_info": {
   "codemirror_mode": {
    "name": "ipython",
    "version": 3
   },
   "file_extension": ".py",
   "mimetype": "text/x-python",
   "name": "python",
   "nbconvert_exporter": "python",
   "pygments_lexer": "ipython3"
  }
 },
 "nbformat": 4,
 "nbformat_minor": 2
}
